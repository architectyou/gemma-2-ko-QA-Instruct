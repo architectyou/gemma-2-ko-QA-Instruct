{
 "cells": [
  {
   "cell_type": "code",
   "execution_count": 1,
   "metadata": {},
   "outputs": [
    {
     "data": {
      "text/html": [
       "<div>\n",
       "<style scoped>\n",
       "    .dataframe tbody tr th:only-of-type {\n",
       "        vertical-align: middle;\n",
       "    }\n",
       "\n",
       "    .dataframe tbody tr th {\n",
       "        vertical-align: top;\n",
       "    }\n",
       "\n",
       "    .dataframe thead th {\n",
       "        text-align: right;\n",
       "    }\n",
       "</style>\n",
       "<table border=\"1\" class=\"dataframe\">\n",
       "  <thead>\n",
       "    <tr style=\"text-align: right;\">\n",
       "      <th></th>\n",
       "      <th>question</th>\n",
       "      <th>contexts</th>\n",
       "      <th>ground_truth</th>\n",
       "      <th>evolution_type</th>\n",
       "      <th>metadata</th>\n",
       "      <th>episode_done</th>\n",
       "    </tr>\n",
       "  </thead>\n",
       "  <tbody>\n",
       "    <tr>\n",
       "      <th>0</th>\n",
       "      <td>What is the significance of the information pr...</td>\n",
       "      <td>['표준 개인정보 보호지침\\n③ 개인정보취급자는 등록한 사항이 변경된 경우에는 고시...</td>\n",
       "      <td>The significance of the information presentati...</td>\n",
       "      <td>simple</td>\n",
       "      <td>[{'source': '/data/test/pdf_files/표준 개인정보 보호지침...</td>\n",
       "      <td>True</td>\n",
       "    </tr>\n",
       "    <tr>\n",
       "      <th>1</th>\n",
       "      <td>In the context of Korean literature or culture...</td>\n",
       "      <td>['제한 또는 거절 사유\\n12. 법 제33조제1항에 따른 개인정보 영향평가를 받은...</td>\n",
       "      <td>The answer to given question is not present in...</td>\n",
       "      <td>simple</td>\n",
       "      <td>[{'source': '/data/test/pdf_files/표준 개인정보 보호지침...</td>\n",
       "      <td>True</td>\n",
       "    </tr>\n",
       "    <tr>\n",
       "      <th>2</th>\n",
       "      <td>What are the recent trends in the economy of J...</td>\n",
       "      <td>['표준 개인정보 보호지침\\n제13조(법정대리인의 동의) ① 영 제17조의2제1항에...</td>\n",
       "      <td>The answer to given question is not present in...</td>\n",
       "      <td>simple</td>\n",
       "      <td>[{'source': '/data/test/pdf_files/표준 개인정보 보호지침...</td>\n",
       "      <td>True</td>\n",
       "    </tr>\n",
       "    <tr>\n",
       "      <th>3</th>\n",
       "      <td>What is the significance of the information's ...</td>\n",
       "      <td>['⑦ 개인정보처리자가 친목단체를 운영하기 위하여 다음 각 호의 어느 하나에 해당하...</td>\n",
       "      <td>The significance of the information's accuracy...</td>\n",
       "      <td>simple</td>\n",
       "      <td>[{'source': '/data/test/pdf_files/표준 개인정보 보호지침...</td>\n",
       "      <td>True</td>\n",
       "    </tr>\n",
       "    <tr>\n",
       "      <th>4</th>\n",
       "      <td>What links data accuracy, source reliability, ...</td>\n",
       "      <td>['침해할 우려가 있는 경우\\n② 개인정보처리자는 제1항 단서에 따라 제1항 전문에...</td>\n",
       "      <td>The context does not provide a direct answer t...</td>\n",
       "      <td>reasoning</td>\n",
       "      <td>[{'source': '/data/test/pdf_files/표준 개인정보 보호지침...</td>\n",
       "      <td>True</td>\n",
       "    </tr>\n",
       "  </tbody>\n",
       "</table>\n",
       "</div>"
      ],
      "text/plain": [
       "                                            question  \\\n",
       "0  What is the significance of the information pr...   \n",
       "1  In the context of Korean literature or culture...   \n",
       "2  What are the recent trends in the economy of J...   \n",
       "3  What is the significance of the information's ...   \n",
       "4  What links data accuracy, source reliability, ...   \n",
       "\n",
       "                                            contexts  \\\n",
       "0  ['표준 개인정보 보호지침\\n③ 개인정보취급자는 등록한 사항이 변경된 경우에는 고시...   \n",
       "1  ['제한 또는 거절 사유\\n12. 법 제33조제1항에 따른 개인정보 영향평가를 받은...   \n",
       "2  ['표준 개인정보 보호지침\\n제13조(법정대리인의 동의) ① 영 제17조의2제1항에...   \n",
       "3  ['⑦ 개인정보처리자가 친목단체를 운영하기 위하여 다음 각 호의 어느 하나에 해당하...   \n",
       "4  ['침해할 우려가 있는 경우\\n② 개인정보처리자는 제1항 단서에 따라 제1항 전문에...   \n",
       "\n",
       "                                        ground_truth evolution_type  \\\n",
       "0  The significance of the information presentati...         simple   \n",
       "1  The answer to given question is not present in...         simple   \n",
       "2  The answer to given question is not present in...         simple   \n",
       "3  The significance of the information's accuracy...         simple   \n",
       "4  The context does not provide a direct answer t...      reasoning   \n",
       "\n",
       "                                            metadata  episode_done  \n",
       "0  [{'source': '/data/test/pdf_files/표준 개인정보 보호지침...          True  \n",
       "1  [{'source': '/data/test/pdf_files/표준 개인정보 보호지침...          True  \n",
       "2  [{'source': '/data/test/pdf_files/표준 개인정보 보호지침...          True  \n",
       "3  [{'source': '/data/test/pdf_files/표준 개인정보 보호지침...          True  \n",
       "4  [{'source': '/data/test/pdf_files/표준 개인정보 보호지침...          True  "
      ]
     },
     "execution_count": 1,
     "metadata": {},
     "output_type": "execute_result"
    }
   ],
   "source": [
    "from dotenv import load_dotenv\n",
    "load_dotenv()\n",
    "\n",
    "import pandas as pd\n",
    "\n",
    "df = pd.read_csv(\"data/ragas_synthetic_dataset.csv\")\n",
    "df.head()"
   ]
  },
  {
   "cell_type": "code",
   "execution_count": 3,
   "metadata": {},
   "outputs": [
    {
     "data": {
      "text/plain": [
       "Dataset({\n",
       "    features: ['question', 'contexts', 'ground_truth', 'evolution_type', 'metadata', 'episode_done'],\n",
       "    num_rows: 9\n",
       "})"
      ]
     },
     "execution_count": 3,
     "metadata": {},
     "output_type": "execute_result"
    }
   ],
   "source": [
    "from datasets import Dataset\n",
    "\n",
    "test_dataset = Dataset.from_pandas(df)\n",
    "test_dataset"
   ]
  },
  {
   "cell_type": "code",
   "execution_count": 4,
   "metadata": {},
   "outputs": [
    {
     "name": "stderr",
     "output_type": "stream",
     "text": [
      "Map: 100%|██████████| 9/9 [00:00<00:00, 925.10 examples/s]"
     ]
    },
    {
     "name": "stdout",
     "output_type": "stream",
     "text": [
      "Dataset({\n",
      "    features: ['question', 'contexts', 'ground_truth', 'evolution_type', 'metadata', 'episode_done'],\n",
      "    num_rows: 9\n",
      "})\n"
     ]
    },
    {
     "name": "stderr",
     "output_type": "stream",
     "text": [
      "\n"
     ]
    }
   ],
   "source": [
    "import ast\n",
    "\n",
    "def convert_to_list(example):\n",
    "    contexts = ast.literal_eval(example[\"contexts\"])\n",
    "    return {\"contexts\":contexts}\n",
    "\n",
    "test_dataset = test_dataset.map(convert_to_list)\n",
    "print(test_dataset)\n",
    "    "
   ]
  },
  {
   "cell_type": "code",
   "execution_count": 5,
   "metadata": {},
   "outputs": [
    {
     "data": {
      "text/plain": [
       "['제한 또는 거절 사유\\n12. 법 제33조제1항에 따른 개인정보 영향평가를 받은 개인정보파일의 경우에는 그 영향평가의 결과\\n법제처 18 국가법령정보센터',\n",
       " '표준 개인정보 보호지침\\n③ 개인정보취급자는 등록한 사항이 변경된 경우에는 고시 제3조제2항에 따른 별지 제2호서식의 ‘개인정보파일\\n등록ㆍ변경등록 신청서’를 활용하여 개인정보 보호책임자에게 변경을 신청하여야 한다.\\n제53조(개인정보파일 등록 및 변경 확인) ① 개인정보파일 등록 또는 변경 신청을 받은 개인정보 보호책임자는 등\\n록ㆍ변경 사항을 검토하고 그 적정성을 판단한 후 보호위원회에 등록하여야 한다.\\n② 교육청 및 각급 학교 등의 개인정보 보호책임자는 교육부에 제1항에 따른 등록ㆍ변경 사항의 검토 및 적정성\\n판단을 요청한 후, 교육부의 확인을 받아 보호위원회에 등록하여야 한다.\\n③ 중앙행정기관 및 지방자치단체의 소속기관, 기타 공공기관은 상위 관리기관에 제1항에 따른 등록ㆍ변경 사항\\n의 검토 및 적정성 판단을 요청한 후, 상위 관리기관의 확인을 받아 보호위원회에 등록하여야 한다.\\n④ 제1항부터 제3항의 등록은 60일 이내에 하여야 한다.\\n제54조(개인정보파일 표준목록 등록과 관리) ① 특별지방행정기관, 지방자치단체, 교육기관(학교 포함) 등 전국적으\\n로 단일한 공통업무를 집행하고 있는 기관은 각 중앙행정기관에서 제공하는 ‘개인정보파일 표준목록’에 따라 등\\n록해야 한다.\\n② 전국 단일의 공통업무와 관련된 개인정보파일 표준목록은 해당 중앙행정기관에서 등록ㆍ관리해야 한다.\\n제55조(개인정보파일의 파기) ① 공공기관은 개인정보파일의 보유기간 경과, 처리 목적 달성 등 개인정보파일이 불\\n필요하게 되었을 때에는 지체 없이 그 개인정보파일을 파기하여야 한다. 다만, 다른 법령에 따라 보존하여야 하\\n는 경우에는 그러하지 아니하다.\\n② 공공기관은 개인정보파일의 보유기간, 처리 목적 등을 반영한 개인정보 파기계획을 수립ㆍ시행하여야 한다.\\n다만, 영 제30조제1항제1호에 따른 내부 관리계획이 수립되어 있는 경우에는 내부 관리계획에 개인정보 파기계\\n획을 포함하여 시행할 수 있다.',\n",
       " '다만, 영 제30조제1항제1호에 따른 내부 관리계획이 수립되어 있는 경우에는 내부 관리계획에 개인정보 파기계\\n획을 포함하여 시행할 수 있다.\\n③ 개인정보취급자는 보유기간 경과, 처리 목적 달성 등 파기 사유가 발생한 개인정보파일을 선정하고, 별지 제\\n4호서식에 따른 개인정보파일 파기요청서에 파기 대상 개인정보파일의 명칭, 파기방법 등을 기재하여 개인정보\\n보호책임자의 승인을 받아 개인정보를 파기하여야 한다.\\n④ 개인정보 보호책임자는 개인정보 파기 시행 후 파기 결과를 확인하고 별지 제5호서식에 따른 개인정보파일\\n파기 관리대장을 작성하여야 한다.\\n제56조(개인정보파일 등록 사실의 삭제) ① 개인정보취급자는 제55조에 따라 개인정보파일을 파기한 경우, 법 제\\n32조에 따른 개인정보파일의 등록사실에 대한 삭제를 개인정보 보호책임자에게 요청해야 한다.\\n② 개인정보파일 등록의 삭제를 요청받은 개인정보 보호책임자는 그 사실을 확인하고, 지체 없이 등록 사실을 삭\\n제한 후 그 사실을 보호위원회에 통보한다.\\n제57조(등록ㆍ파기에 대한 개선권고) ① 공공기관의 개인정보 보호책임자는 제53조제1항에 따라 검토한 개인정보\\n파일이 과다하게 운용되고 있다고 판단되는 경우에는 개선을 권고할 수 있다.\\n② 교육청 및 각급 학교, 중앙행정기관 및 지방자치단체의 소속기관, 기타 공공기관의 개인정보 보호책임자는 제\\n53조제2항 및 제3항에 따라 검토한 개인정보파일이 과다하게 운용된다고 판단되거나, 등록되지 않은 파일이 있\\n법제처 19 국가법령정보센터']"
      ]
     },
     "execution_count": 5,
     "metadata": {},
     "output_type": "execute_result"
    }
   ],
   "source": [
    "test_dataset[1][\"contexts\"]"
   ]
  },
  {
   "cell_type": "code",
   "execution_count": null,
   "metadata": {},
   "outputs": [],
   "source": []
  }
 ],
 "metadata": {
  "kernelspec": {
   "display_name": "rag_chat",
   "language": "python",
   "name": "python3"
  },
  "language_info": {
   "codemirror_mode": {
    "name": "ipython",
    "version": 3
   },
   "file_extension": ".py",
   "mimetype": "text/x-python",
   "name": "python",
   "nbconvert_exporter": "python",
   "pygments_lexer": "ipython3",
   "version": "3.10.14"
  }
 },
 "nbformat": 4,
 "nbformat_minor": 2
}
