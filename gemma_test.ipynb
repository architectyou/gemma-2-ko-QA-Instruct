{
 "cells": [
  {
   "cell_type": "code",
   "execution_count": 1,
   "metadata": {},
   "outputs": [
    {
     "name": "stderr",
     "output_type": "stream",
     "text": [
      "Loading checkpoint shards: 100%|██████████| 10/10 [00:09<00:00,  1.01it/s]\n"
     ]
    }
   ],
   "source": [
    "import torch\n",
    "from transformers import AutoModelForCausalLM, AutoTokenizer, AutoConfig\n",
    "\n",
    "model_name = \"/data/gguf_models/ko-gemma-2-9b-it/\"\n",
    "\n",
    "tokenizer = AutoTokenizer.from_pretrained(model_name)\n",
    "model = AutoModelForCausalLM.from_pretrained(\n",
    "    model_name,\n",
    "    device_map = \"auto\"\n",
    ")"
   ]
  },
  {
   "cell_type": "code",
   "execution_count": 2,
   "metadata": {},
   "outputs": [
    {
     "name": "stderr",
     "output_type": "stream",
     "text": [
      "Asking to truncate to max_length but no maximum length is provided and the model has no predefined maximum length. Default to no truncation.\n"
     ]
    },
    {
     "data": {
      "text/markdown": [
       " \n",
       "\n",
       "## Customer Support Application System Design\n",
       "\n",
       "This design outlines a system for a customer support application, focusing on handling customer inquiries through multiple channels and providing efficient support.\n",
       "\n",
       "**Diagram:**\n",
       "\n",
       "```\n",
       "                               +-----------------+\n",
       "                               |  Web Interface  |\n",
       "                               +-----------------+\n",
       "                                     ^\n",
       "                                     |\n",
       "                                     |  API Gateway\n",
       "                                     v\n",
       "                               +-----------------+\n",
       "                               |  API Layer     |\n",
       "                               +-----------------+\n",
       "                                     ^\n",
       "                                     |\n",
       "                                     |  Message Queue\n",
       "                                     v\n",
       "                               +-----------------+\n",
       "                               |  Service Layer  |\n",
       "                               +-----------------+\n",
       "                                     ^\n",
       "                                     |\n",
       "                                     |  Database\n",
       "                                     v\n",
       "                               +-----------------+\n",
       "                               |  Data Layer    |\n",
       "                               +-----------------+\n",
       "```\n",
       "\n",
       "**Components:**\n",
       "\n",
       "1. **Web Interface:**\n",
       "    -  Provides a user-friendly interface for customers to submit inquiries via web forms, live chat, or FAQs.\n",
       "    -  Displays real-time chat conversations and ticket status updates.\n",
       "    -  Built using technologies like React, Angular, or Vue.js.\n",
       "\n",
       "2. **API Gateway:**\n",
       "    -  Acts as a single entry point for all API requests.\n",
       "    -  Handles authentication, authorization, and routing requests to appropriate services.\n",
       "    -  Built using technologies like Kong, Apigee, or AWS API Gateway.\n",
       "\n",
       "3. **API Layer:**\n",
       "    -  Exposes RESTful APIs for interacting with the system.\n",
       "    -  Provides endpoints for managing customer profiles, tickets, chat conversations, and other functionalities.\n",
       "    -  Built using technologies like Node.js, Python (Flask/Django), or Java (Spring Boot).\n",
       "\n",
       "4. **Message Queue:**\n",
       "    -  Asynchronously handles communication between services.\n",
       "    -  Used for tasks like sending notifications, routing chat messages, and processing ticket updates.\n",
       "    -  Built using technologies like RabbitMQ, Kafka, or Amazon SQS.\n",
       "\n",
       "5. **Service Layer:**\n",
       "    -  Contains business logic and domain-specific functionalities.\n",
       "    -  Handles ticket creation, assignment, resolution, and escalation.\n",
       "    -  Manages chat conversations, user authentication"
      ],
      "text/plain": [
       "<IPython.core.display.Markdown object>"
      ]
     },
     "execution_count": 2,
     "metadata": {},
     "output_type": "execute_result"
    }
   ],
   "source": [
    "from IPython.display import Markdown, display\n",
    "\n",
    "system =  \"You are a skilled software architect who consistently creates system designs for various applications.\"\n",
    "user = \"Design a system with the ASCII diagram for the customer support application.\"\n",
    "\n",
    "prompt = f\"System: {system} \\n User: {user} \\n AI: \"\n",
    "    \n",
    "inputs = tokenizer(prompt, return_tensors='pt', padding=True, truncation=True).to(\"cuda\")\n",
    "\n",
    "outputs = model.generate(**inputs, max_length=500, num_return_sequences=1)\n",
    "\n",
    "text = tokenizer.decode(outputs[0], skip_special_tokens=True)\n",
    "\n",
    "Markdown(text.split(\"AI:\")[1])"
   ]
  },
  {
   "cell_type": "code",
   "execution_count": 3,
   "metadata": {},
   "outputs": [
    {
     "name": "stdout",
     "output_type": "stream",
     "text": [
      "tensor([     2,   2622, 235292,   1646,    708,    476,  30942,   6815,  19507,\n",
      "          1064,  27930,  18460,   1812,  13135,    604,   4282,   8557, 235265,\n",
      "        235248,    108,   4926, 235292,   6307,    476,   1812,    675,    573,\n",
      "         87174,  16646,    604,    573,   6650,   2676,   4724, 235265, 235248,\n",
      "           108,  16481, 235292, 235248,    109,   1620,  13653,  10214,  11470,\n",
      "          1479,   6307,    109,   1596,   2480,  57175,    476,   1812,    604,\n",
      "           476,   6650,   2676,   4724, 235269,  28643,    611,  13404,   6650,\n",
      "         44715,   1593,   6733,  15584,    578,   9151,  10878,   2676, 235265,\n",
      "           109,    688,  77130,  66058,    109,   1917,    108,    168, 235340,\n",
      "          3755, 117020,    108,    168, 235371,    139,   3728,  31687,    139,\n",
      "        235371,    108,    168, 235340,   3755, 117020,    108,    168,    143,\n",
      "        235393,    108,    168,    143, 235371,    108,    168,    143, 235371,\n",
      "           139,   9090,  53785,    108,    168,    143, 235272,    108,    168,\n",
      "        235340,   3755, 117020,    108,    168, 235371,    139,   9090,  34780,\n",
      "           142, 235371,    108,    168, 235340,   3755, 117020,    108,    168,\n",
      "           143, 235393,    108,    168,    143, 235371,    108,    168,    143,\n",
      "        235371,    139,   3321,  43747,    108,    168,    143, 235272,    108,\n",
      "           168, 235340,   3755, 117020,    108,    168, 235371,    139,   2489,\n",
      "         34780,    139, 235371,    108,    168, 235340,   3755, 117020,    108,\n",
      "           168,    143, 235393,    108,    168,    143, 235371,    108,    168,\n",
      "           143, 235371,    139,  10123,    108,    168,    143, 235272,    108,\n",
      "           168, 235340,   3755, 117020,    108,    168, 235371,    139,   1510,\n",
      "         34780,    141, 235371,    108,    168, 235340,   3755, 117020,    108,\n",
      "          1917,    109,    688,  16053,  66058,    109, 235274, 235265,   5231,\n",
      "          3728,  31687,  66058,    108,    141, 235290,    139,  53651,    476,\n",
      "          2425, 235290,  20342,   7222,    604,   7138,    577,  12554,  44715,\n",
      "          3998,   2744,   7539, 235269,   3685,   9232, 235269,    689,  49712,\n",
      "        235265,    108,    141, 235290,    139, 173513,   1879, 235290,   1602,\n",
      "          9232,  30893,    578,  15457,   4938,  12921, 235265,    108,    141,\n",
      "        235290,    139,  40896,   2177,  14363,   1154,   8071, 235269,  62173,\n",
      "        235269,    689,  38244, 235265,   2833, 235265,    109, 235284, 235265,\n",
      "          5231,   9090,  53785,  66058,    108,    141, 235290,    139,  81310,\n",
      "           685,    476,   3821,   7929,   2377,    604,    832,  10665,  12557,\n",
      "        235265,    108,    141, 235290,    139, 109890,  34671, 235269,  45982,\n",
      "        235269,    578,  49384,  12557,    577,   8348,   3545, 235265,    108,\n",
      "           141, 235290,    139,  40896,   2177,  14363,   1154,  15675, 235269,\n",
      "         25923,  39895, 235269,    689,  42556,  10665,  53785, 235265,    109,\n",
      "        235304, 235265,   5231,   9090,  34780,  66058,    108,    141, 235290,\n",
      "           139,   1152,   7991,  37466,   1329,  65179,    604,  57728,    675,\n",
      "           573,   1812, 235265,    108,    141, 235290,    139,  53651,  79833,\n",
      "           604,  22496,   6650,  26178, 235269,  16767, 235269,   9232,  30893,\n",
      "        235269,    578,   1156, 107399, 235265,    108,    141, 235290,    139,\n",
      "         40896,   2177,  14363,   1154,  13116, 235265,   2833, 235269,  21237,\n",
      "           591, 173605, 235283, 125068,    823,    689,  12071,    591,  13198,\n",
      "         25355,    846,    109, 235310, 235265,   5231,   3321,  43747,  66058,\n",
      "           108,    141, 235290,    139,   2169, 162705,  26446,   9228,   1865,\n",
      "          3545, 235265,    108,    141, 235290,    139,  20231,    604,  13333,\n",
      "          1154,  17583,  39672, 235269,  49384,   9232,  11922, 235269,    578,\n",
      "         10310,  15457,  12921, 235265,    108,    141, 235290,    139,  40896,\n",
      "          2177,  14363,   1154,  45265,  47815, 235269,  81051, 235269,    689,\n",
      "          8641,    570,  45883, 235265,    109, 235308, 235265,   5231,   2489,\n",
      "         34780,  66058,    108,    141, 235290,    139,  27193,   2567,  14855,\n",
      "           578,  11988, 235290,  14524, 107399, 235265,    108,    141, 235290,\n",
      "           139, 109890,  15457,  12860, 235269,  22312, 235269,  11879, 235269,\n",
      "           578, 125344, 235265,    108,    141, 235290,    139,   2397,   2208,\n",
      "          9232,  30893, 235269,   2425,  34671], device='cuda:0')\n"
     ]
    }
   ],
   "source": [
    "print(outputs[0])"
   ]
  },
  {
   "cell_type": "code",
   "execution_count": 4,
   "metadata": {},
   "outputs": [
    {
     "name": "stdout",
     "output_type": "stream",
     "text": [
      "<bos>System: You are a skilled software architect who consistently creates system designs for various applications. \n",
      " User: Design a system with the ASCII diagram for the customer support application. \n",
      " AI: \n",
      "\n",
      "## Customer Support Application System Design\n",
      "\n",
      "This design outlines a system for a customer support application, focusing on handling customer inquiries through multiple channels and providing efficient support.\n",
      "\n",
      "**Diagram:**\n",
      "\n",
      "```\n",
      "                               +-----------------+\n",
      "                               |  Web Interface  |\n",
      "                               +-----------------+\n",
      "                                     ^\n",
      "                                     |\n",
      "                                     |  API Gateway\n",
      "                                     v\n",
      "                               +-----------------+\n",
      "                               |  API Layer     |\n",
      "                               +-----------------+\n",
      "                                     ^\n",
      "                                     |\n",
      "                                     |  Message Queue\n",
      "                                     v\n",
      "                               +-----------------+\n",
      "                               |  Service Layer  |\n",
      "                               +-----------------+\n",
      "                                     ^\n",
      "                                     |\n",
      "                                     |  Database\n",
      "                                     v\n",
      "                               +-----------------+\n",
      "                               |  Data Layer    |\n",
      "                               +-----------------+\n",
      "```\n",
      "\n",
      "**Components:**\n",
      "\n",
      "1. **Web Interface:**\n",
      "    -  Provides a user-friendly interface for customers to submit inquiries via web forms, live chat, or FAQs.\n",
      "    -  Displays real-time chat conversations and ticket status updates.\n",
      "    -  Built using technologies like React, Angular, or Vue.js.\n",
      "\n",
      "2. **API Gateway:**\n",
      "    -  Acts as a single entry point for all API requests.\n",
      "    -  Handles authentication, authorization, and routing requests to appropriate services.\n",
      "    -  Built using technologies like Kong, Apigee, or AWS API Gateway.\n",
      "\n",
      "3. **API Layer:**\n",
      "    -  Exposes RESTful APIs for interacting with the system.\n",
      "    -  Provides endpoints for managing customer profiles, tickets, chat conversations, and other functionalities.\n",
      "    -  Built using technologies like Node.js, Python (Flask/Django), or Java (Spring Boot).\n",
      "\n",
      "4. **Message Queue:**\n",
      "    -  Asynchronously handles communication between services.\n",
      "    -  Used for tasks like sending notifications, routing chat messages, and processing ticket updates.\n",
      "    -  Built using technologies like RabbitMQ, Kafka, or Amazon SQS.\n",
      "\n",
      "5. **Service Layer:**\n",
      "    -  Contains business logic and domain-specific functionalities.\n",
      "    -  Handles ticket creation, assignment, resolution, and escalation.\n",
      "    -  Manages chat conversations, user authentication\n"
     ]
    },
    {
     "ename": "",
     "evalue": "",
     "output_type": "error",
     "traceback": [
      "\u001b[1;31mThe Kernel crashed while executing code in the current cell or a previous cell. \n",
      "\u001b[1;31mPlease review the code in the cell(s) to identify a possible cause of the failure. \n",
      "\u001b[1;31mClick <a href='https://aka.ms/vscodeJupyterKernelCrash'>here</a> for more info. \n",
      "\u001b[1;31mView Jupyter <a href='command:jupyter.viewOutput'>log</a> for further details."
     ]
    }
   ],
   "source": [
    "print(tokenizer.decode(outputs[0]))"
   ]
  },
  {
   "cell_type": "code",
   "execution_count": null,
   "metadata": {},
   "outputs": [],
   "source": []
  }
 ],
 "metadata": {
  "kernelspec": {
   "display_name": "rag_chat",
   "language": "python",
   "name": "python3"
  },
  "language_info": {
   "codemirror_mode": {
    "name": "ipython",
    "version": 3
   },
   "file_extension": ".py",
   "mimetype": "text/x-python",
   "name": "python",
   "nbconvert_exporter": "python",
   "pygments_lexer": "ipython3",
   "version": "3.10.14"
  }
 },
 "nbformat": 4,
 "nbformat_minor": 2
}
